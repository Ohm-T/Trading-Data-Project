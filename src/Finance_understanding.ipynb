{
 "cells": [
  {
   "attachments": {},
   "cell_type": "markdown",
   "metadata": {},
   "source": [
    "## YFINANCE library"
   ]
  },
  {
   "attachments": {},
   "cell_type": "markdown",
   "metadata": {},
   "source": [
    "Use library yfinance : open-source tool that uses Yahoo's publicly available APIs, and is intended for research and educational purposes.\n",
    "\n",
    "**Vocabulary :**\n",
    "<details>\n",
    "<summary>Stocks/Shares/Equity</summary>\n",
    " When a person owns stock in a company, the individual is called a shareholder and is eligible to claim part of the company’s residual assets and earnings (should the company ever have to dissolve). A shareholder may also be referred to as a stockholder. The terms “stock”, “shares”, and “equity” are used interchangeably in modern financial language.  The stock market consists of exchanges where investors can buy and sell individual shares of a company.\n",
    "</details>\n",
    "<details>\n",
    "<summary>Assets</summary>\n",
    "\n",
    "Un actif financier est un titre ou un contrat, généralement transmissible et négociable (par exemple sur un marché financier), qui est susceptible de produire à son détenteur des revenus ou un gain en capital, en contrepartie d'une certaine prise de risque)\n",
    "Instructions go here\n",
    "</details>\n",
    "\n",
    "<details>\n",
    "<summary>IPO</summary>\n",
    "Une introduction en bourse (en anglais : initial public offering ou IPO) est une opération financière conduite par une société et ses différents conseils (banquier d'affaires, commissaire aux comptes, avocat d'affaires, etc.) qui permet la cotation de titres de capital [actions] de cette entreprise sur un marché boursier. Elle est généralement couplée à une levée de fonds (augmentation de capital) et parfois à des cessions d'actions détenues par des actionnaires.\n",
    "</details>\n",
    "\n",
    "**Benefits of owning stocks :**\n",
    "<details>\n",
    "<summary>- Claim on assets</summary>\n",
    "A shareholder has a claim on assets of a company it has stock in. However, the claims on assets are relevant only when the company faces liquidation. In that event, all of the company’s assets and liabilities are counted, and after all creditors are paid, the shareholders can claim what is left. This is the reason that equity (stocks) investments are considered higher risk than debt (credit, loans, and bonds) because creditors are paid before equity holders, and if there are no assets left after the debt is paid, the equity holders may receive nothing.\n",
    "</details>\n",
    "\n",
    "<details>\n",
    "<summary>- Dividends and capital gains</summary>\n",
    "A stockholder may also receive earnings, which are paid in the form of dividends. The company can decide the amount of dividends to be paid in one period (such as one quarter or one year), or it can decide to retain all of the earnings to expand the business further. Aside from dividends, the stockholder can also enjoy capital gains from stock price appreciation.\n",
    "</details>\n",
    "\n",
    "<details>\n",
    "<summary>- Power to vote</summary>\n",
    "Another powerful feature of stock ownership is that shareholders are entitled to vote for management changes if the company is mismanaged. The executive board of a company will hold annual meetings to report overall company performance. They disclose plans for future period operations and management decisions. Should investors and stockholders disagree with the company’s current operation or future plans, they have the power to negotiate changes in management or business strategy.\n",
    "</details>\n",
    "\n",
    "\n",
    "<details>\n",
    "<summary>- Limited liability</summary>\n",
    "Lastly, when a person owns shares of a company, the nature of ownership is limited. Should the company go bankrupt, shareholders are not personally liable for any loss.\n",
    "</details>\n",
    "\n",
    "**Benefits of owning stocks :**\n",
    "\n",
    "<details>\n",
    "<summary>- Loss of capital</summary>\n",
    "There is no guarantee that a stock’s price will move up. An investor may buy shares at $50 during an IPO, but find that the shares move down to $20 as the company begins to perform badly, for example.\n",
    "</details>\n",
    "\n",
    "<details>\n",
    "<summary>- No liquidation preference</summary>\n",
    "When a company liquidates, creditors are paid before equity holders. In most cases, a company will only liquidate when it has very little assets left to operate. In most cases, that means that there will be no assets left for equity holders once creditors are paid off.\n",
    "</details>\n",
    "\n",
    "<details>\n",
    "<summary>- Irrelevant power to vote</summary>\n",
    "While retail investors technically have voting rights in executive board meetings, in practice they usually have very limited influence or power. The majority shareholder typically determines the outcome of all votes at shareholder meetings.\n",
    "</details>\n",
    "\n",
    "\n",
    "**What affects share prices :**\n",
    "\n",
    "<details>\n",
    "<summary>- Many factors</summary>\n",
    "There are many factors that affect share prices. These may include the global economy, sector performance, government policies, natural disasters, and other factors. Investor sentiment – how investors feel about the company’s future prospects – often plays a large part in dictating the price. If investors are confident about a company’s ability to rapidly grow and eventually produce large returns on investment, then the company’s stock price may be well above its current intrinsic, or actual, value.\n",
    "</details>\n",
    "\n",
    "Two of the most examined financial ratios used to evaluate stocks are the following:\n",
    "\n",
    "<details>\n",
    "<summary>- Revenue growth</summary>\n",
    "Revenue growth tells analysts about the sales performance of the company’s products or services and generally indicates whether or not its customers love what it does.\n",
    "</details>\n",
    "<details>\n",
    "<summary>- Earnings growth</summary>\n",
    "Earnings reveal how efficiently the company manages its operations and resources to produce profits. \n",
    "</details>\n",
    "\n",
    " Both are very high-level indicators that can be used as references on whether or not to purchase shares. However, stock analysts also use many other financial ratios and tools to help investors profit from equity trading.\n",
    "\n",
    "**Forecasting**\n",
    "Financial modeling combines accounting, finance, and business metrics to create a forecast of a company’s future results.\n",
    "The main goal of financial modeling is to accurately project a company’s future financial performance.\n",
    "Modeling can be useful for valuing companies, determining whether a company should raise capital or grow the business organically or through acquisitions.\n",
    "\n",
    "The forecast is typically based on the company’s historical performance and assumptions about the future, and requires preparing an income statement, balance sheet, cash flow statement, and supporting schedules (known as a 3-statement model). From there, more advanced types of models can be built such as discounted cash flow analysis (DCF model), leveraged buyout (LBO), mergers and acquisitions (M&A), and sensitivity analysis. Below is an example of financial modeling in Excel.\n"
   ]
  },
  {
   "cell_type": "markdown",
   "metadata": {},
   "source": []
  }
 ],
 "metadata": {
  "kernelspec": {
   "display_name": "data",
   "language": "python",
   "name": "python3"
  },
  "language_info": {
   "name": "python",
   "version": "3.10.8 | packaged by conda-forge | (main, Nov 22 2022, 08:16:53) [MSC v.1929 64 bit (AMD64)]"
  },
  "orig_nbformat": 4,
  "vscode": {
   "interpreter": {
    "hash": "497396fc279c3f97c33f1484ac27517a9d57f6ae267a9924b25221b965319414"
   }
  }
 },
 "nbformat": 4,
 "nbformat_minor": 2
}
